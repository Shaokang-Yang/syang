{
  "cells": [
    {
      "cell_type": "raw",
      "metadata": {},
      "source": [
        "---\n",
        "title: \"Behavior Segmentation for Smartphone Use \"\n",
        "date: 12/09/2023\n",
        "date-modified: last-modified\n",
        "date-format: full\n",
        "categories: [Paper1]\n",
        "image: \"cluster1.png\"\n",
        "tbl-colwidths: [5,30,125]\n",
        "format: \n",
        "  html:\n",
        "    page-layout: full\n",
        "---"
      ],
      "id": "042ce47f"
    },
    {
      "cell_type": "markdown",
      "metadata": {},
      "source": [
        "We cluster the smartphone use behaviors based on the three major metrics of smartphone use actions: Screen time, unlock frequency and message.\n",
        "\n",
        "## Descriptive Statistics\n"
      ],
      "id": "6425bfc3"
    },
    {
      "cell_type": "code",
      "metadata": {},
      "source": [
        "#| echo: false\n",
        "#| warning: false\n",
        "#| output: true\n",
        "import time;import pandas as pd;import numpy as np;import datetime\n",
        "from datetime import datetime;from datetime import timedelta;import sqlite3;import warnings\n",
        "import matplotlib.pyplot as plt;import seaborn as sns;warnings.filterwarnings('ignore')\n",
        "\n",
        "df=pd.read_csv(\"/Users/shaokangyang/Library/CloudStorage/GoogleDrive-sky.ang510@gmail.com/My Drive/Nethealth/Data/CNSA/combine/7/df7_3hr.csv\")\n",
        "df1 = df\n",
        "df1[['sleep_debt','sleep_duration','screen_time','message','unlock','especiallyclose_m','family_m','friend_m','romantic_m','naps','naps_dur']].describe(percentiles=[.10,.15,.20,.25,.50,.55,.60,.65,.70, .75,.80,.85,.90,.95]).round(2)"
      ],
      "id": "1ad5f5de",
      "execution_count": null,
      "outputs": []
    },
    {
      "cell_type": "markdown",
      "metadata": {},
      "source": [
        "## Trend Analysis\n",
        "\n",
        "First, we explore the relationships among variables of sleep debt, screen time (\\>15 min) and message with measurement window of three hours:\n"
      ],
      "id": "f658e511"
    },
    {
      "cell_type": "code",
      "metadata": {},
      "source": [
        "#| echo: false\n",
        "#| warning: false\n",
        "#| output: true\n",
        "\n",
        "# Creating a special bin for 0\n",
        "df1=df[df['screen_time']>15]\n",
        "bins = [-np.inf, 0.001] + list(range(15, 185, 5))  # 0.1 to include 0 in the first bin exclusively\n",
        "df1['screen_time_bin'] = pd.cut(df1['screen_time'], bins=bins, right=False, include_lowest=True)\n",
        "# Recalculating the aggregated data\n",
        "grouped = df1.groupby('screen_time_bin').agg({'sleep_debt':'mean', 'message':'mean', 'screen_time':'count'}).reset_index()\n",
        "# Replotting with the adjusted bins\n",
        "fig, ax1 = plt.subplots(figsize=(14, 8))\n",
        "# Line plot for sleep debt trend\n",
        "line1, = ax1.plot(grouped['screen_time_bin'].astype(str), grouped['sleep_debt'], color='blue', linestyle='-', marker='o', label='Sleep Debt')\n",
        "# Adding labels for sleep debt\n",
        "for x, y in zip(grouped['screen_time_bin'].astype(str), grouped['sleep_debt']):\n",
        "    ax1.text(x, y, f'{y:.2f}', va='bottom', ha='center', color='blue')\n",
        "# Setting the left y-axis for sleep debt\n",
        "ax1.set_xlabel('Screen Time (minutes)')\n",
        "ax1.set_ylabel('Average Sleep Debt')\n",
        "ax1.set_title('Sleep Debt, Screen Time and Message')\n",
        "ax1.tick_params(axis='x', rotation=45)\n",
        "# Line plot for message count on a secondary y-axis\n",
        "ax2 = ax1.twinx()\n",
        "line2, = ax2.plot(grouped['screen_time_bin'].astype(str), grouped['message'], color='darkorange', linestyle='--', marker='o', label='Message')\n",
        "# Adding labels for message count\n",
        "for i, txt in enumerate(grouped['message']):\n",
        "    ax2.annotate(f'{txt:.2f}', (grouped['screen_time_bin'].astype(str)[i], grouped['message'][i]), textcoords=\"offset points\", xytext=(0,10), ha='center')\n",
        "ax2.set_ylabel('Message')\n",
        "# Bar plot for the number of observations on a secondary y-axis\n",
        "ax3 = ax1.twinx()\n",
        "bars = ax3.bar(grouped['screen_time_bin'].astype(str), grouped['screen_time'], width=0.4, color='lightgrey', alpha=0.5, label='Number of Observations')\n",
        "ax3.spines['right'].set_position(('outward', 60))  # Offset the right spine of ax3\n",
        "ax3.set_ylabel('Number of Observations')\n",
        "# Labeling the number of observations above each bar\n",
        "for bar in bars:\n",
        "    yval = bar.get_height()\n",
        "    ax3.text(bar.get_x() + bar.get_width() / 2, yval, f'{int(yval)}', va='bottom', ha='center', color='black')\n",
        "# Adjusting the plot\n",
        "ax1.grid(True, which='both', linestyle='--', linewidth=0.5)\n",
        "ax2.grid(False)\n",
        "ax3.grid(False)\n",
        "# Adding legends\n",
        "fig.legend(loc='upper right')\n",
        "fig.tight_layout()\n",
        "plt.show()"
      ],
      "id": "f6deac80",
      "execution_count": null,
      "outputs": []
    },
    {
      "cell_type": "markdown",
      "metadata": {},
      "source": [
        "### **Marginal effect estimates with multiplicative interaction models**\n",
        "\n",
        "![](images/nonparametric%20rela.svg){fig-align=\"center\"}\n",
        "\n",
        "## Clustering Analysis\n",
        "\n",
        "### Cluster=11\n",
        "\n",
        "#### Front view\n"
      ],
      "id": "e4c99f46"
    },
    {
      "cell_type": "code",
      "metadata": {},
      "source": [
        "#| echo: false\n",
        "#| warning: false\n",
        "#| output: true\n",
        "\n",
        "from sklearn.cluster import KMeans\n",
        "from sklearn.preprocessing import StandardScaler\n",
        "import matplotlib.pyplot as plt\n",
        "from mpl_toolkits.mplot3d import Axes3D\n",
        "random_seed = 1\n",
        "#df1 = df[df['message'] < 240]\n",
        "df1=df\n",
        "df1.loc[df1['unlock'] > 41, 'unlock'] = 41;df1.loc[df1['message'] > 96, 'message'] = 96\n",
        "# Normalizing the data\n",
        "scaler = StandardScaler()\n",
        "df_scaled = scaler.fit_transform(df1[['screen_time', 'unlock', 'message']])\n",
        "# KMeans clustering on normalized data\n",
        "kmeans = KMeans(n_clusters=11,random_state=random_seed)\n",
        "clusters = kmeans.fit_predict(df_scaled)\n",
        "# Adding the cluster data to the original dataframe\n",
        "df1['cluster'] = clusters+1\n",
        "# Visualizing the clusters in 3D with normalized data\n",
        "# Custom colors for each cluster (12 in total)\n",
        "nature_colors = [\n",
        "    '#1f77b4',  # Blue\n",
        "    '#ff7f0e',  # Orange\n",
        "    '#2ca02c',  # Green\n",
        "    '#d62728',  # Red\n",
        "    '#9467bd',  # Purple\n",
        "    '#ffbb78',  # Light Orange\n",
        "    '#7a876f',  # Pink\n",
        "    '#17becf',  # Gray\n",
        "    '#bcbd22',  # Olive\n",
        "    '#c27ba0',  # Yellow\n",
        "    '#aec7e8',  # Light Blue\n",
        "    '#8c564b',   # Brown\n",
        "    '#c27ba0'\n",
        "]\n",
        "fig = plt.figure(figsize=(16, 9.6))\n",
        "ax = fig.add_subplot(111, projection='3d')\n",
        "# Plotting each cluster with a custom color\n",
        "for i in range(1, 12):  # Cluster numbers now range from 1 to 12\n",
        "    cluster_data = df1[df1['cluster'] == i]\n",
        "    ax.scatter(cluster_data['screen_time'], cluster_data['unlock'], cluster_data['message'], \n",
        "               color=nature_colors[i - 1], label=f'Cluster {i}', marker='o')\n",
        "ax.set_title('Behavior Segmentation for Smartphone Use (Cluster=11)')\n",
        "ax.set_xlabel('Screen Time (minutes)')\n",
        "ax.set_ylabel('Unlock Frequency')\n",
        "ax.set_zlabel('Number of Messages')\n",
        "# Legend\n",
        "ax.legend(title=\"Clusters\")\n",
        "plt.show()"
      ],
      "id": "31a26c13",
      "execution_count": null,
      "outputs": []
    },
    {
      "cell_type": "markdown",
      "metadata": {},
      "source": [
        "#### Rear view\n"
      ],
      "id": "cc72e598"
    },
    {
      "cell_type": "code",
      "metadata": {},
      "source": [
        "#| echo: false\n",
        "#| warning: false\n",
        "#| output: true\n",
        "\n",
        "from sklearn.cluster import KMeans\n",
        "from sklearn.preprocessing import StandardScaler\n",
        "import matplotlib.pyplot as plt\n",
        "from mpl_toolkits.mplot3d import Axes3D\n",
        "random_seed = 1\n",
        "#df1 = df[df['message'] < 240]\n",
        "df1=df\n",
        "df1.loc[df1['unlock'] > 41, 'unlock'] = 41;df1.loc[df1['message'] > 96, 'message'] = 96\n",
        "# Normalizing the data\n",
        "scaler = StandardScaler()\n",
        "df_scaled = scaler.fit_transform(df1[['screen_time', 'unlock', 'message']])\n",
        "# KMeans clustering on normalized data\n",
        "kmeans = KMeans(n_clusters=11,random_state=random_seed)\n",
        "clusters = kmeans.fit_predict(df_scaled)\n",
        "# Adding the cluster data to the original dataframe\n",
        "df1['cluster'] = clusters+1\n",
        "# Visualizing the clusters in 3D with normalized data\n",
        "# Custom colors for each cluster (12 in total)\n",
        "nature_colors = [\n",
        "    '#1f77b4',  # Blue\n",
        "    '#ff7f0e',  # Orange\n",
        "    '#2ca02c',  # Green\n",
        "    '#d62728',  # Red\n",
        "    '#9467bd',  # Purple\n",
        "    '#ffbb78',  # Light Orange\n",
        "    '#7a876f',  # Pink\n",
        "    '#17becf',  # Gray\n",
        "    '#bcbd22',  # Olive\n",
        "    '#c27ba0',  # Yellow\n",
        "    '#aec7e8',  # Light Blue\n",
        "    '#8c564b',   # Brown\n",
        "    '#c27ba0'\n",
        "]\n",
        "fig = plt.figure(figsize=(16, 9.6))\n",
        "ax = fig.add_subplot(111, projection='3d')\n",
        "# Plotting each cluster with a custom color\n",
        "for i in range(1, 12):  # Cluster numbers now range from 1 to 12\n",
        "    cluster_data = df1[df1['cluster'] == i]\n",
        "    ax.scatter(cluster_data['screen_time'], cluster_data['unlock'], cluster_data['message'], \n",
        "               color=nature_colors[i - 1], label=f'Cluster {i}', marker='o')\n",
        "ax.set_title('Behavior Segmentation for Smartphone Use (Cluster=11)')\n",
        "ax.set_xlabel('Screen Time (minutes)')\n",
        "ax.set_ylabel('Unlock Frequency')\n",
        "ax.set_zlabel('Number of Messages')\n",
        "# Legend\n",
        "ax.legend(title=\"Clusters\")\n",
        "ax.view_init(30, 120)\n",
        "plt.show()"
      ],
      "id": "009b1fd7",
      "execution_count": null,
      "outputs": []
    },
    {
      "cell_type": "markdown",
      "metadata": {},
      "source": [
        "### Descriptive Statistics by Cluster\n",
        "\n",
        "#### Sleep Debt\n"
      ],
      "id": "4f8a0f16"
    },
    {
      "cell_type": "code",
      "metadata": {},
      "source": [
        "#| echo: false\n",
        "#| warning: false\n",
        "#| output: true\n",
        "\n",
        "summary = df.groupby('cluster')['sleep_debt'].describe().round(2)\n",
        "print(summary)"
      ],
      "id": "cb1aee26",
      "execution_count": null,
      "outputs": []
    },
    {
      "cell_type": "markdown",
      "metadata": {},
      "source": [
        "The above summary suggests that **cluster 2** has the minimal sleep debt of **31.53** minutes. In comparison, **cluster 10** has the maximal sleep debt of **54.76** minutes.\n",
        "\n",
        "#### Screen Time\n"
      ],
      "id": "b90d151a"
    },
    {
      "cell_type": "code",
      "metadata": {},
      "source": [
        "#| echo: false\n",
        "#| warning: false\n",
        "#| output: true\n",
        "summary = df.groupby('cluster')['screen_time'].describe().round(2)\n",
        "print(summary)"
      ],
      "id": "d3600bfd",
      "execution_count": null,
      "outputs": []
    },
    {
      "cell_type": "markdown",
      "metadata": {},
      "source": [
        "#### Unlock\n"
      ],
      "id": "c84e8b3d"
    },
    {
      "cell_type": "code",
      "metadata": {},
      "source": [
        "#| echo: false\n",
        "#| warning: false\n",
        "#| output: true\n",
        "summary = df.groupby('cluster')['unlock'].describe().round(2)\n",
        "print(summary)"
      ],
      "id": "847e0a36",
      "execution_count": null,
      "outputs": []
    },
    {
      "cell_type": "markdown",
      "metadata": {},
      "source": [
        "#### Message\n"
      ],
      "id": "27703a9c"
    },
    {
      "cell_type": "code",
      "metadata": {},
      "source": [
        "#| echo: false\n",
        "#| warning: false\n",
        "#| output: true\n",
        "summary = df.groupby('cluster')['message'].describe().round(2)\n",
        "print(summary)"
      ],
      "id": "f8fa8028",
      "execution_count": null,
      "outputs": []
    },
    {
      "cell_type": "markdown",
      "metadata": {},
      "source": [
        "The table above suggests the cluster 2 has the **second highest message frequency**, 79.57. It implies that message might reduce sleep debt.\n",
        "\n",
        "#### Close Message\n"
      ],
      "id": "58a64781"
    },
    {
      "cell_type": "code",
      "metadata": {},
      "source": [
        "#| echo: false\n",
        "#| warning: false\n",
        "#| output: true\n",
        "summary = df.groupby('cluster')['especiallyclose_m'].describe().round(2)\n",
        "print(summary)"
      ],
      "id": "ff56b88c",
      "execution_count": null,
      "outputs": []
    },
    {
      "cell_type": "markdown",
      "metadata": {},
      "source": [
        "The table above suggests the cluster 2 has the **highest close message frequency**, 49.06. It implies that close message might reduce sleep debt.\n",
        "\n",
        "#### Family Message\n"
      ],
      "id": "1094f573"
    },
    {
      "cell_type": "code",
      "metadata": {},
      "source": [
        "#| echo: false\n",
        "#| warning: false\n",
        "#| output: true\n",
        "summary = df.groupby('cluster')['family_m'].describe().round(2)\n",
        "print(summary)"
      ],
      "id": "6f3e004f",
      "execution_count": null,
      "outputs": []
    },
    {
      "cell_type": "markdown",
      "metadata": {},
      "source": [
        "The table above suggests the cluster 2 has the **highest family message frequency**, 5.89. It implies that family message might reduce sleep debt.\n",
        "\n",
        "#### Friend Message\n"
      ],
      "id": "be85b13f"
    },
    {
      "cell_type": "code",
      "metadata": {},
      "source": [
        "#| echo: false\n",
        "#| warning: false\n",
        "#| output: true\n",
        "summary = df.groupby('cluster')['friend_m'].describe().round(2)\n",
        "print(summary)"
      ],
      "id": "934eb7b9",
      "execution_count": null,
      "outputs": []
    },
    {
      "cell_type": "markdown",
      "metadata": {},
      "source": [
        "#### Romantic Message\n"
      ],
      "id": "aa9b3003"
    },
    {
      "cell_type": "code",
      "metadata": {},
      "source": [
        "#| echo: false\n",
        "#| warning: false\n",
        "#| output: true\n",
        "summary = df.groupby('cluster')['romantic_m'].describe().round(2)\n",
        "print(summary)"
      ],
      "id": "706da2b7",
      "execution_count": null,
      "outputs": []
    },
    {
      "cell_type": "markdown",
      "metadata": {},
      "source": [
        "#### Steps\n"
      ],
      "id": "e870a26f"
    },
    {
      "cell_type": "code",
      "metadata": {},
      "source": [
        "#| echo: false\n",
        "#| warning: false\n",
        "#| output: true\n",
        "summary = df.groupby('cluster')['steps'].describe().round(1)\n",
        "print(summary)"
      ],
      "id": "6d57d7a4",
      "execution_count": null,
      "outputs": []
    },
    {
      "cell_type": "markdown",
      "metadata": {},
      "source": [
        "### Cluster=10\n",
        "\n",
        "#### Front view\n"
      ],
      "id": "bec7eb21"
    },
    {
      "cell_type": "code",
      "metadata": {},
      "source": [
        "#| echo: false\n",
        "#| warning: false\n",
        "#| output: true\n",
        "\n",
        "from sklearn.cluster import KMeans\n",
        "from sklearn.preprocessing import StandardScaler\n",
        "import matplotlib.pyplot as plt\n",
        "from mpl_toolkits.mplot3d import Axes3D\n",
        "random_seed = 1\n",
        "#df1 = df[df['message'] < 240]\n",
        "df1=df\n",
        "df1.loc[df1['unlock'] > 41, 'unlock'] = 41;df1.loc[df1['message'] > 96, 'message'] = 96\n",
        "# Normalizing the data\n",
        "scaler = StandardScaler()\n",
        "df_scaled = scaler.fit_transform(df1[['screen_time', 'unlock', 'message']])\n",
        "# KMeans clustering on normalized data\n",
        "kmeans = KMeans(n_clusters=10,random_state=random_seed)\n",
        "clusters = kmeans.fit_predict(df_scaled)\n",
        "# Adding the cluster data to the original dataframe\n",
        "df1['cluster'] = clusters+1\n",
        "# Visualizing the clusters in 3D with normalized data\n",
        "# Custom colors for each cluster (12 in total)\n",
        "nature_colors = [\n",
        "    '#1f77b4',  # Blue\n",
        "    '#ff7f0e',  # Orange\n",
        "    '#2ca02c',  # Green\n",
        "    '#d62728',  # Red\n",
        "    '#9467bd',  # Purple\n",
        "    '#ffbb78',  # Light Orange\n",
        "    '#7a876f',  # Pink\n",
        "    '#17becf',  # Gray\n",
        "    '#bcbd22',  # Olive\n",
        "    '#FFC300',  # Yellow\n",
        "    '#aec7e8',  # Light Blue\n",
        "    '#8c564b'   # Brown\n",
        "]\n",
        "fig = plt.figure(figsize=(16, 9.6))\n",
        "ax = fig.add_subplot(111, projection='3d')\n",
        "# Plotting each cluster with a custom color\n",
        "for i in range(1, 11):  # Cluster numbers now range from 1 to 12\n",
        "    cluster_data = df1[df1['cluster'] == i]\n",
        "    ax.scatter(cluster_data['screen_time'], cluster_data['unlock'], cluster_data['message'], \n",
        "               color=nature_colors[i - 1], label=f'Cluster {i}', marker='o')\n",
        "ax.set_title('Behavior Segmentation for Smartphone Use (Cluster=10)')\n",
        "ax.set_xlabel('Screen Time (minutes)')\n",
        "ax.set_ylabel('Unlock Frequency')\n",
        "ax.set_zlabel('Number of Messages')\n",
        "# Legend\n",
        "ax.legend(title=\"Clusters\")\n",
        "plt.show()"
      ],
      "id": "0645f838",
      "execution_count": null,
      "outputs": []
    },
    {
      "cell_type": "markdown",
      "metadata": {},
      "source": [
        "#### Rear view\n"
      ],
      "id": "7b6a8d9e"
    },
    {
      "cell_type": "code",
      "metadata": {},
      "source": [
        "#| echo: false\n",
        "#| warning: false\n",
        "#| output: true\n",
        "\n",
        "from sklearn.cluster import KMeans\n",
        "from sklearn.preprocessing import StandardScaler\n",
        "import matplotlib.pyplot as plt\n",
        "from mpl_toolkits.mplot3d import Axes3D\n",
        "random_seed = 1\n",
        "#df1 = df[df['message'] < 240]\n",
        "df1=df\n",
        "df1.loc[df1['unlock'] > 41, 'unlock'] = 41;df1.loc[df1['message'] > 96, 'message'] = 96\n",
        "# Normalizing the data\n",
        "scaler = StandardScaler()\n",
        "df_scaled = scaler.fit_transform(df1[['screen_time', 'unlock', 'message']])\n",
        "# KMeans clustering on normalized data\n",
        "kmeans = KMeans(n_clusters=10,random_state=random_seed)\n",
        "clusters = kmeans.fit_predict(df_scaled)\n",
        "# Adding the cluster data to the original dataframe\n",
        "df1['cluster'] = clusters+1\n",
        "# Visualizing the clusters in 3D with normalized data\n",
        "# Custom colors for each cluster (12 in total)\n",
        "nature_colors = [\n",
        "    '#1f77b4',  # Blue\n",
        "    '#ff7f0e',  # Orange\n",
        "    '#2ca02c',  # Green\n",
        "    '#d62728',  # Red\n",
        "    '#9467bd',  # Purple\n",
        "    '#ffbb78',  # Light Orange\n",
        "    '#7a876f',  # Pink\n",
        "    '#17becf',  # Gray\n",
        "    '#bcbd22',  # Olive\n",
        "    '#FFC300',  # Yellow\n",
        "    '#aec7e8',  # Light Blue\n",
        "    '#8c564b'   # Brown\n",
        "]\n",
        "fig = plt.figure(figsize=(16, 9.6))\n",
        "ax = fig.add_subplot(111, projection='3d')\n",
        "# Plotting each cluster with a custom color\n",
        "for i in range(1, 11):  # Cluster numbers now range from 1 to 12\n",
        "    cluster_data = df1[df1['cluster'] == i]\n",
        "    ax.scatter(cluster_data['screen_time'], cluster_data['unlock'], cluster_data['message'], \n",
        "               color=nature_colors[i - 1], label=f'Cluster {i}', marker='o')\n",
        "ax.set_title('Behavior Segmentation for Smartphone Use (Cluster=10)')\n",
        "ax.set_xlabel('Screen Time (minutes)')\n",
        "ax.set_ylabel('Unlock Frequency')\n",
        "ax.set_zlabel('Number of Messages')\n",
        "# Legend\n",
        "ax.legend(title=\"Clusters\")\n",
        "ax.view_init(30, 60)\n",
        "plt.show()"
      ],
      "id": "15a130b4",
      "execution_count": null,
      "outputs": []
    },
    {
      "cell_type": "markdown",
      "metadata": {},
      "source": [
        "### Descriptive Statistics by Cluster\n",
        "\n",
        "#### Sleep Debt\n"
      ],
      "id": "8480f2fd"
    },
    {
      "cell_type": "code",
      "metadata": {},
      "source": [
        "#| echo: false\n",
        "#| warning: false\n",
        "#| output: true\n",
        "\n",
        "summary = df.groupby('cluster')['sleep_debt'].describe().round(2)\n",
        "print(summary)"
      ],
      "id": "d3641297",
      "execution_count": null,
      "outputs": []
    },
    {
      "cell_type": "markdown",
      "metadata": {},
      "source": [
        "The above summary suggests that **cluster 6** has the minimal sleep debt of **31.41** minutes. In comparison, **cluster 4** has the maximal sleep debt of **54.50** minutes.\n",
        "\n",
        "#### Screen Time\n"
      ],
      "id": "39a9657a"
    },
    {
      "cell_type": "code",
      "metadata": {},
      "source": [
        "#| echo: false\n",
        "#| warning: false\n",
        "#| output: true\n",
        "summary = df.groupby('cluster')['screen_time'].describe().round(2)\n",
        "print(summary)"
      ],
      "id": "ce262ec2",
      "execution_count": null,
      "outputs": []
    },
    {
      "cell_type": "markdown",
      "metadata": {},
      "source": [
        "#### Unlock\n"
      ],
      "id": "d35f3e85"
    },
    {
      "cell_type": "code",
      "metadata": {},
      "source": [
        "#| echo: false\n",
        "#| warning: false\n",
        "#| output: true\n",
        "summary = df.groupby('cluster')['unlock'].describe().round(2)\n",
        "print(summary)"
      ],
      "id": "ac6fbc15",
      "execution_count": null,
      "outputs": []
    },
    {
      "cell_type": "markdown",
      "metadata": {},
      "source": [
        "#### Message\n"
      ],
      "id": "382ec0ac"
    },
    {
      "cell_type": "code",
      "metadata": {},
      "source": [
        "#| echo: false\n",
        "#| warning: false\n",
        "#| output: true\n",
        "summary = df.groupby('cluster')['message'].describe().round(2)\n",
        "print(summary)"
      ],
      "id": "4388e57b",
      "execution_count": null,
      "outputs": []
    },
    {
      "cell_type": "markdown",
      "metadata": {},
      "source": [
        "The table above suggests the cluster 4 has the **second highest message frequency, 78.15**. It implies that message might reduce sleep debt.\n",
        "\n",
        "#### Close Message\n"
      ],
      "id": "d08aaa79"
    },
    {
      "cell_type": "code",
      "metadata": {},
      "source": [
        "#| echo: false\n",
        "#| warning: false\n",
        "#| output: true\n",
        "summary = df.groupby('cluster')['especiallyclose_m'].describe().round(2)\n",
        "print(summary)"
      ],
      "id": "8de21378",
      "execution_count": null,
      "outputs": []
    },
    {
      "cell_type": "markdown",
      "metadata": {},
      "source": [
        "The table above suggests the cluster 6 has the **highest close message frequency, 47.81**. It implies that close message might reduce sleep debt.\n",
        "\n",
        "#### Family Message\n"
      ],
      "id": "c1f92a82"
    },
    {
      "cell_type": "code",
      "metadata": {},
      "source": [
        "#| echo: false\n",
        "#| warning: false\n",
        "#| output: true\n",
        "summary = df.groupby('cluster')['family_m'].describe().round(2)\n",
        "print(summary)"
      ],
      "id": "ec6415fe",
      "execution_count": null,
      "outputs": []
    },
    {
      "cell_type": "markdown",
      "metadata": {},
      "source": [
        "The table above suggests the cluster 6 has the **highest family message frequency, 5.83**. It implies that family message might reduce sleep debt.\n",
        "\n",
        "#### Friend Message\n"
      ],
      "id": "8adc4c2b"
    },
    {
      "cell_type": "code",
      "metadata": {},
      "source": [
        "#| echo: false\n",
        "#| warning: false\n",
        "#| output: true\n",
        "summary = df.groupby('cluster')['friend_m'].describe().round(2)\n",
        "print(summary)"
      ],
      "id": "5f8aee12",
      "execution_count": null,
      "outputs": []
    },
    {
      "cell_type": "markdown",
      "metadata": {},
      "source": [
        "#### Romantic Message\n"
      ],
      "id": "2c79bb74"
    },
    {
      "cell_type": "code",
      "metadata": {},
      "source": [
        "#| echo: false\n",
        "#| warning: false\n",
        "#| output: true\n",
        "summary = df.groupby('cluster')['romantic_m'].describe().round(2)\n",
        "print(summary)"
      ],
      "id": "077f78f4",
      "execution_count": null,
      "outputs": []
    },
    {
      "cell_type": "markdown",
      "metadata": {},
      "source": [
        "#### Steps\n"
      ],
      "id": "0d2992e1"
    },
    {
      "cell_type": "code",
      "metadata": {},
      "source": [
        "#| echo: false\n",
        "#| warning: false\n",
        "#| output: true\n",
        "summary = df.groupby('cluster')['steps'].describe().round(1)\n",
        "print(summary)"
      ],
      "id": "06a8d393",
      "execution_count": null,
      "outputs": []
    },
    {
      "cell_type": "markdown",
      "metadata": {},
      "source": [
        "### Cluster=9\n",
        "\n",
        "#### Front view\n"
      ],
      "id": "c17aa1ee"
    },
    {
      "cell_type": "code",
      "metadata": {},
      "source": [
        "#| echo: false\n",
        "#| warning: false\n",
        "#| output: true\n",
        "\n",
        "from sklearn.cluster import KMeans\n",
        "from sklearn.preprocessing import StandardScaler\n",
        "import matplotlib.pyplot as plt\n",
        "from mpl_toolkits.mplot3d import Axes3D\n",
        "random_seed = 1\n",
        "#df1 = df[df['message'] < 240]\n",
        "df1=df\n",
        "df1.loc[df1['unlock'] > 41, 'unlock'] = 41;df1.loc[df1['message'] > 96, 'message'] = 96\n",
        "# Normalizing the data\n",
        "scaler = StandardScaler()\n",
        "df_scaled = scaler.fit_transform(df1[['screen_time', 'unlock', 'message']])\n",
        "# KMeans clustering on normalized data\n",
        "kmeans = KMeans(n_clusters=9,random_state=random_seed)\n",
        "clusters = kmeans.fit_predict(df_scaled)\n",
        "# Adding the cluster data to the original dataframe\n",
        "df1['cluster'] = clusters+1\n",
        "# Visualizing the clusters in 3D with normalized data\n",
        "# Custom colors for each cluster (12 in total)\n",
        "nature_colors = [\n",
        "    '#1f77b4',  # Blue\n",
        "    '#ff7f0e',  # Orange\n",
        "    '#2ca02c',  # Green\n",
        "    '#d62728',  # Red\n",
        "    '#9467bd',  # Purple\n",
        "    '#ffbb78',  # Light Orange\n",
        "    '#7a876f',  # Pink\n",
        "    '#17becf',  # Gray\n",
        "    '#bcbd22',  # Olive\n",
        "    '#FFC300',  # Yellow\n",
        "    '#aec7e8',  # Light Blue\n",
        "    '#8c564b'   # Brown\n",
        "]\n",
        "fig = plt.figure(figsize=(16, 9.6))\n",
        "ax = fig.add_subplot(111, projection='3d')\n",
        "# Plotting each cluster with a custom color\n",
        "for i in range(1, 10):  # Cluster numbers now range from 1 to 12\n",
        "    cluster_data = df1[df1['cluster'] == i]\n",
        "    ax.scatter(cluster_data['screen_time'], cluster_data['unlock'], cluster_data['message'], \n",
        "               color=nature_colors[i - 1], label=f'Cluster {i}', marker='o')\n",
        "ax.set_title('Behavior Segmentation for Smartphone Use (Cluster=9)')\n",
        "ax.set_xlabel('Screen Time (minutes)')\n",
        "ax.set_ylabel('Unlock Frequency')\n",
        "ax.set_zlabel('Number of Messages')\n",
        "# Legend\n",
        "ax.legend(title=\"Clusters\")\n",
        "plt.show()"
      ],
      "id": "cee0618b",
      "execution_count": null,
      "outputs": []
    },
    {
      "cell_type": "markdown",
      "metadata": {},
      "source": [
        "#### Rear view\n"
      ],
      "id": "429b1b96"
    },
    {
      "cell_type": "code",
      "metadata": {},
      "source": [
        "#| echo: false\n",
        "#| warning: false\n",
        "#| output: true\n",
        "\n",
        "from sklearn.cluster import KMeans\n",
        "from sklearn.preprocessing import StandardScaler\n",
        "import matplotlib.pyplot as plt\n",
        "from mpl_toolkits.mplot3d import Axes3D\n",
        "random_seed = 1\n",
        "#df1 = df[df['message'] < 240]\n",
        "df1=df\n",
        "df1.loc[df1['unlock'] > 41, 'unlock'] = 41;df1.loc[df1['message'] > 96, 'message'] = 96\n",
        "# Normalizing the data\n",
        "scaler = StandardScaler()\n",
        "df_scaled = scaler.fit_transform(df1[['screen_time', 'unlock', 'message']])\n",
        "# KMeans clustering on normalized data\n",
        "kmeans = KMeans(n_clusters=9,random_state=random_seed)\n",
        "clusters = kmeans.fit_predict(df_scaled)\n",
        "# Adding the cluster data to the original dataframe\n",
        "df1['cluster'] = clusters+1\n",
        "# Visualizing the clusters in 3D with normalized data\n",
        "# Custom colors for each cluster (12 in total)\n",
        "nature_colors = [\n",
        "    '#1f77b4',  # Blue\n",
        "    '#ff7f0e',  # Orange\n",
        "    '#2ca02c',  # Green\n",
        "    '#d62728',  # Red\n",
        "    '#9467bd',  # Purple\n",
        "    '#ffbb78',  # Light Orange\n",
        "    '#7a876f',  # Pink\n",
        "    '#17becf',  # Gray\n",
        "    '#bcbd22',  # Olive\n",
        "    '#FFC300',  # Yellow\n",
        "    '#aec7e8',  # Light Blue\n",
        "    '#8c564b'   # Brown\n",
        "]\n",
        "fig = plt.figure(figsize=(16, 9.6))\n",
        "ax = fig.add_subplot(111, projection='3d')\n",
        "# Plotting each cluster with a custom color\n",
        "for i in range(1, 10):  # Cluster numbers now range from 1 to 12\n",
        "    cluster_data = df1[df1['cluster'] == i]\n",
        "    ax.scatter(cluster_data['screen_time'], cluster_data['unlock'], cluster_data['message'], \n",
        "               color=nature_colors[i - 1], label=f'Cluster {i}', marker='o')\n",
        "ax.set_title('Behavior Segmentation for Smartphone Use (Cluster=9)')\n",
        "ax.set_xlabel('Screen Time (minutes)')\n",
        "ax.set_ylabel('Unlock Frequency')\n",
        "ax.set_zlabel('Number of Messages')\n",
        "# Legend\n",
        "ax.legend(title=\"Clusters\")\n",
        "ax.view_init(30, 60)\n",
        "plt.show()"
      ],
      "id": "98cf9c38",
      "execution_count": null,
      "outputs": []
    },
    {
      "cell_type": "markdown",
      "metadata": {},
      "source": [
        "### Descriptive Statistics by Cluster\n",
        "\n",
        "#### Sleep Debt\n"
      ],
      "id": "30a3b1fc"
    },
    {
      "cell_type": "code",
      "metadata": {},
      "source": [
        "#| echo: false\n",
        "#| warning: false\n",
        "#| output: true\n",
        "\n",
        "summary = df.groupby('cluster')['sleep_debt'].describe().round(2)\n",
        "print(summary)"
      ],
      "id": "9310159a",
      "execution_count": null,
      "outputs": []
    },
    {
      "cell_type": "markdown",
      "metadata": {},
      "source": [
        "The above summary suggests that **cluster 5** has the minimal sleep debt of **31.47** minutes. In comparison, **cluster 8** has the maximal sleep debt of **54.61** minutes.\n",
        "\n",
        "#### Screen Time\n"
      ],
      "id": "d31df9f9"
    },
    {
      "cell_type": "code",
      "metadata": {},
      "source": [
        "#| echo: false\n",
        "#| warning: false\n",
        "#| output: true\n",
        "summary = df.groupby('cluster')['screen_time'].describe().round(2)\n",
        "print(summary)"
      ],
      "id": "f5352eb9",
      "execution_count": null,
      "outputs": []
    },
    {
      "cell_type": "markdown",
      "metadata": {},
      "source": [
        "#### Unlock\n"
      ],
      "id": "b85abc2c"
    },
    {
      "cell_type": "code",
      "metadata": {},
      "source": [
        "#| echo: false\n",
        "#| warning: false\n",
        "#| output: true\n",
        "summary = df.groupby('cluster')['unlock'].describe().round(2)\n",
        "print(summary)"
      ],
      "id": "ebd96f91",
      "execution_count": null,
      "outputs": []
    },
    {
      "cell_type": "markdown",
      "metadata": {},
      "source": [
        "#### Message\n"
      ],
      "id": "1f70f304"
    },
    {
      "cell_type": "code",
      "metadata": {},
      "source": [
        "#| echo: false\n",
        "#| warning: false\n",
        "#| output: true\n",
        "summary = df.groupby('cluster')['message'].describe().round(2)\n",
        "print(summary)"
      ],
      "id": "475bd282",
      "execution_count": null,
      "outputs": []
    },
    {
      "cell_type": "markdown",
      "metadata": {},
      "source": [
        "The table above suggests the cluster 5 has the **second highest message frequency, 77.59**. It implies that message might reduce sleep debt.\n",
        "\n",
        "#### Close Message\n"
      ],
      "id": "ffa4518d"
    },
    {
      "cell_type": "code",
      "metadata": {},
      "source": [
        "#| echo: false\n",
        "#| warning: false\n",
        "#| output: true\n",
        "summary = df.groupby('cluster')['especiallyclose_m'].describe().round(2)\n",
        "print(summary)"
      ],
      "id": "9f608dff",
      "execution_count": null,
      "outputs": []
    },
    {
      "cell_type": "markdown",
      "metadata": {},
      "source": [
        "The table above suggests the cluster 5 has the **highest close message frequency, 47.44**. It implies that close message might reduce sleep debt.\n",
        "\n",
        "#### Family Message\n"
      ],
      "id": "32657976"
    },
    {
      "cell_type": "code",
      "metadata": {},
      "source": [
        "#| echo: false\n",
        "#| warning: false\n",
        "#| output: true\n",
        "summary = df.groupby('cluster')['family_m'].describe().round(2)\n",
        "print(summary)"
      ],
      "id": "6e090b92",
      "execution_count": null,
      "outputs": []
    },
    {
      "cell_type": "markdown",
      "metadata": {},
      "source": [
        "The table above suggests the cluster 5 has the **highest family message frequency, 5.76**. It implies that family message might reduce sleep debt.\n",
        "\n",
        "#### Friend Message\n"
      ],
      "id": "8bd48062"
    },
    {
      "cell_type": "code",
      "metadata": {},
      "source": [
        "#| echo: false\n",
        "#| warning: false\n",
        "#| output: true\n",
        "summary = df.groupby('cluster')['friend_m'].describe().round(2)\n",
        "print(summary)"
      ],
      "id": "eaa85ead",
      "execution_count": null,
      "outputs": []
    },
    {
      "cell_type": "markdown",
      "metadata": {},
      "source": [
        "#### Romantic Message\n"
      ],
      "id": "8e3a809a"
    },
    {
      "cell_type": "code",
      "metadata": {},
      "source": [
        "#| echo: false\n",
        "#| warning: false\n",
        "#| output: true\n",
        "summary = df.groupby('cluster')['romantic_m'].describe().round(2)\n",
        "print(summary)"
      ],
      "id": "e82c583e",
      "execution_count": null,
      "outputs": []
    },
    {
      "cell_type": "markdown",
      "metadata": {},
      "source": [
        "#### Steps\n"
      ],
      "id": "b6fd4a63"
    },
    {
      "cell_type": "code",
      "metadata": {},
      "source": [
        "#| echo: false\n",
        "#| warning: false\n",
        "#| output: true\n",
        "summary = df.groupby('cluster')['steps'].describe().round(1)\n",
        "print(summary)"
      ],
      "id": "1f0e57ed",
      "execution_count": null,
      "outputs": []
    },
    {
      "cell_type": "markdown",
      "metadata": {},
      "source": [
        "### Cluster=8\n",
        "\n",
        "#### Front view\n"
      ],
      "id": "80a3ed55"
    },
    {
      "cell_type": "code",
      "metadata": {},
      "source": [
        "#| echo: false\n",
        "#| warning: false\n",
        "#| output: true\n",
        "\n",
        "from sklearn.cluster import KMeans\n",
        "from sklearn.preprocessing import StandardScaler\n",
        "import matplotlib.pyplot as plt\n",
        "from mpl_toolkits.mplot3d import Axes3D\n",
        "random_seed = 1\n",
        "#df1 = df[df['message'] < 240]\n",
        "df1=df\n",
        "df1.loc[df1['unlock'] > 41, 'unlock'] = 41;df1.loc[df1['message'] > 96, 'message'] = 96\n",
        "# Normalizing the data\n",
        "scaler = StandardScaler()\n",
        "df_scaled = scaler.fit_transform(df1[['screen_time', 'unlock', 'message']])\n",
        "# KMeans clustering on normalized data\n",
        "kmeans = KMeans(n_clusters=8,random_state=random_seed)\n",
        "clusters = kmeans.fit_predict(df_scaled)\n",
        "# Adding the cluster data to the original dataframe\n",
        "df1['cluster'] = clusters+1\n",
        "# Visualizing the clusters in 3D with normalized data\n",
        "# Custom colors for each cluster (12 in total)\n",
        "nature_colors = [\n",
        "    '#1f77b4',  # Blue\n",
        "    '#ff7f0e',  # Orange\n",
        "    '#2ca02c',  # Green\n",
        "    '#d62728',  # Red\n",
        "    '#9467bd',  # Purple\n",
        "    '#ffbb78',  # Light Orange\n",
        "    '#7a876f',  # Pink\n",
        "    '#17becf',  # Gray\n",
        "    '#bcbd22',  # Olive\n",
        "    '#FFC300',  # Yellow\n",
        "    '#aec7e8',  # Light Blue\n",
        "    '#8c564b'   # Brown\n",
        "]\n",
        "fig = plt.figure(figsize=(16, 9.6))\n",
        "ax = fig.add_subplot(111, projection='3d')\n",
        "# Plotting each cluster with a custom color\n",
        "for i in range(1, 9):  # Cluster numbers now range from 1 to 12\n",
        "    cluster_data = df1[df1['cluster'] == i]\n",
        "    ax.scatter(cluster_data['screen_time'], cluster_data['unlock'], cluster_data['message'], \n",
        "               color=nature_colors[i - 1], label=f'Cluster {i}', marker='o')\n",
        "ax.set_title('Behavior Segmentation for Smartphone Use (Cluster=8)')\n",
        "ax.set_xlabel('Screen Time (minutes)')\n",
        "ax.set_ylabel('Unlock Frequency')\n",
        "ax.set_zlabel('Number of Messages')\n",
        "# Legend\n",
        "ax.legend(title=\"Clusters\")\n",
        "plt.show()"
      ],
      "id": "5186ac76",
      "execution_count": null,
      "outputs": []
    },
    {
      "cell_type": "markdown",
      "metadata": {},
      "source": [
        "#### Rear view\n"
      ],
      "id": "92dff5ed"
    },
    {
      "cell_type": "code",
      "metadata": {},
      "source": [
        "#| echo: false\n",
        "#| warning: false\n",
        "#| output: true\n",
        "\n",
        "from sklearn.cluster import KMeans\n",
        "from sklearn.preprocessing import StandardScaler\n",
        "import matplotlib.pyplot as plt\n",
        "from mpl_toolkits.mplot3d import Axes3D\n",
        "random_seed = 1\n",
        "#df1 = df[df['message'] < 240]\n",
        "df1=df\n",
        "df1.loc[df1['unlock'] > 41, 'unlock'] = 41;df1.loc[df1['message'] > 96, 'message'] = 96\n",
        "# Normalizing the data\n",
        "scaler = StandardScaler()\n",
        "df_scaled = scaler.fit_transform(df1[['screen_time', 'unlock', 'message']])\n",
        "# KMeans clustering on normalized data\n",
        "kmeans = KMeans(n_clusters=8,random_state=random_seed)\n",
        "clusters = kmeans.fit_predict(df_scaled)\n",
        "# Adding the cluster data to the original dataframe\n",
        "df1['cluster'] = clusters+1\n",
        "# Visualizing the clusters in 3D with normalized data\n",
        "# Custom colors for each cluster (12 in total)\n",
        "nature_colors = [\n",
        "    '#1f77b4',  # Blue\n",
        "    '#ff7f0e',  # Orange\n",
        "    '#2ca02c',  # Green\n",
        "    '#d62728',  # Red\n",
        "    '#9467bd',  # Purple\n",
        "    '#ffbb78',  # Light Orange\n",
        "    '#7a876f',  # Pink\n",
        "    '#17becf',  # Gray\n",
        "    '#bcbd22',  # Olive\n",
        "    '#FFC300',  # Yellow\n",
        "    '#aec7e8',  # Light Blue\n",
        "    '#8c564b'   # Brown\n",
        "]\n",
        "fig = plt.figure(figsize=(16, 9.6))\n",
        "ax = fig.add_subplot(111, projection='3d')\n",
        "# Plotting each cluster with a custom color\n",
        "for i in range(1, 9):  # Cluster numbers now range from 1 to 12\n",
        "    cluster_data = df1[df1['cluster'] == i]\n",
        "    ax.scatter(cluster_data['screen_time'], cluster_data['unlock'], cluster_data['message'], \n",
        "               color=nature_colors[i - 1], label=f'Cluster {i}', marker='o')\n",
        "ax.set_title('Behavior Segmentation for Smartphone Use (Cluster=8)')\n",
        "ax.set_xlabel('Screen Time (minutes)')\n",
        "ax.set_ylabel('Unlock Frequency')\n",
        "ax.set_zlabel('Number of Messages')\n",
        "# Legend\n",
        "ax.legend(title=\"Clusters\")\n",
        "ax.view_init(30, 60)\n",
        "plt.show()"
      ],
      "id": "a6922986",
      "execution_count": null,
      "outputs": []
    },
    {
      "cell_type": "markdown",
      "metadata": {},
      "source": [
        "### Descriptive Statistics by Cluster\n",
        "\n",
        "#### Sleep Debt\n"
      ],
      "id": "0c61f4bb"
    },
    {
      "cell_type": "code",
      "metadata": {},
      "source": [
        "#| echo: false\n",
        "#| warning: false\n",
        "#| output: true\n",
        "\n",
        "summary = df.groupby('cluster')['sleep_debt'].describe().round(2)\n",
        "print(summary)"
      ],
      "id": "c20bee2a",
      "execution_count": null,
      "outputs": []
    },
    {
      "cell_type": "markdown",
      "metadata": {},
      "source": [
        "The above summary suggests that **cluster 5** has the minimal sleep debt of **31.47** minutes. In comparison, **cluster 8** has the maximal sleep debt of **54.61** minutes.\n",
        "\n",
        "#### Screen Time\n"
      ],
      "id": "a8be5954"
    },
    {
      "cell_type": "code",
      "metadata": {},
      "source": [
        "#| echo: false\n",
        "#| warning: false\n",
        "#| output: true\n",
        "summary = df.groupby('cluster')['screen_time'].describe().round(2)\n",
        "print(summary)"
      ],
      "id": "36f5cd00",
      "execution_count": null,
      "outputs": []
    },
    {
      "cell_type": "markdown",
      "metadata": {},
      "source": [
        "#### Unlock\n"
      ],
      "id": "24289b25"
    },
    {
      "cell_type": "code",
      "metadata": {},
      "source": [
        "#| echo: false\n",
        "#| warning: false\n",
        "#| output: true\n",
        "summary = df.groupby('cluster')['unlock'].describe().round(2)\n",
        "print(summary)"
      ],
      "id": "f9d4a3aa",
      "execution_count": null,
      "outputs": []
    },
    {
      "cell_type": "markdown",
      "metadata": {},
      "source": [
        "#### Message\n"
      ],
      "id": "5be24682"
    },
    {
      "cell_type": "code",
      "metadata": {},
      "source": [
        "#| echo: false\n",
        "#| warning: false\n",
        "#| output: true\n",
        "summary = df.groupby('cluster')['message'].describe().round(2)\n",
        "print(summary)"
      ],
      "id": "9a792819",
      "execution_count": null,
      "outputs": []
    },
    {
      "cell_type": "markdown",
      "metadata": {},
      "source": [
        "The table above suggests the cluster 5 has the **second highest message frequency, 77.59**. It implies that message might reduce sleep debt.\n",
        "\n",
        "#### Close Message\n"
      ],
      "id": "3e96a5ee"
    },
    {
      "cell_type": "code",
      "metadata": {},
      "source": [
        "#| echo: false\n",
        "#| warning: false\n",
        "#| output: true\n",
        "summary = df.groupby('cluster')['especiallyclose_m'].describe().round(2)\n",
        "print(summary)"
      ],
      "id": "2db6e6a7",
      "execution_count": null,
      "outputs": []
    },
    {
      "cell_type": "markdown",
      "metadata": {},
      "source": [
        "The table above suggests the cluster 5 has the **highest close message frequency, 47.44**. It implies that close message might reduce sleep debt.\n",
        "\n",
        "#### Family Message\n"
      ],
      "id": "6029595c"
    },
    {
      "cell_type": "code",
      "metadata": {},
      "source": [
        "#| echo: false\n",
        "#| warning: false\n",
        "#| output: true\n",
        "summary = df.groupby('cluster')['family_m'].describe().round(2)\n",
        "print(summary)"
      ],
      "id": "542d288a",
      "execution_count": null,
      "outputs": []
    },
    {
      "cell_type": "markdown",
      "metadata": {},
      "source": [
        "The table above suggests the cluster 5 has the **highest family message frequency, 5.76**. It implies that family message might reduce sleep debt.\n",
        "\n",
        "#### Friend Message\n"
      ],
      "id": "439948ed"
    },
    {
      "cell_type": "code",
      "metadata": {},
      "source": [
        "#| echo: false\n",
        "#| warning: false\n",
        "#| output: true\n",
        "summary = df.groupby('cluster')['friend_m'].describe().round(2)\n",
        "print(summary)"
      ],
      "id": "cee2779c",
      "execution_count": null,
      "outputs": []
    },
    {
      "cell_type": "markdown",
      "metadata": {},
      "source": [
        "#### Romantic Message\n"
      ],
      "id": "bcf79781"
    },
    {
      "cell_type": "code",
      "metadata": {},
      "source": [
        "#| echo: false\n",
        "#| warning: false\n",
        "#| output: true\n",
        "summary = df.groupby('cluster')['romantic_m'].describe().round(2)\n",
        "print(summary)"
      ],
      "id": "9e13452d",
      "execution_count": null,
      "outputs": []
    },
    {
      "cell_type": "markdown",
      "metadata": {},
      "source": [
        "#### Steps\n"
      ],
      "id": "d299585e"
    },
    {
      "cell_type": "code",
      "metadata": {},
      "source": [
        "#| echo: false\n",
        "#| warning: false\n",
        "#| output: true\n",
        "summary = df.groupby('cluster')['steps'].describe().round(1)\n",
        "print(summary)"
      ],
      "id": "5efe983a",
      "execution_count": null,
      "outputs": []
    },
    {
      "cell_type": "markdown",
      "metadata": {},
      "source": [
        "### Cluster=7\n",
        "\n",
        "#### Front view\n"
      ],
      "id": "fc653573"
    },
    {
      "cell_type": "code",
      "metadata": {},
      "source": [
        "#| echo: false\n",
        "#| warning: false\n",
        "#| output: true\n",
        "\n",
        "from sklearn.cluster import KMeans\n",
        "from sklearn.preprocessing import StandardScaler\n",
        "import matplotlib.pyplot as plt\n",
        "from mpl_toolkits.mplot3d import Axes3D\n",
        "random_seed = 1\n",
        "#df1 = df[df['message'] < 240]\n",
        "df1=df\n",
        "df1.loc[df1['unlock'] > 41, 'unlock'] = 41;df1.loc[df1['message'] > 96, 'message'] = 96\n",
        "# Normalizing the data\n",
        "scaler = StandardScaler()\n",
        "df_scaled = scaler.fit_transform(df1[['screen_time', 'unlock', 'message']])\n",
        "# KMeans clustering on normalized data\n",
        "kmeans = KMeans(n_clusters=7,random_state=random_seed)\n",
        "clusters = kmeans.fit_predict(df_scaled)\n",
        "# Adding the cluster data to the original dataframe\n",
        "df1['cluster'] = clusters+1\n",
        "# Visualizing the clusters in 3D with normalized data\n",
        "# Custom colors for each cluster (12 in total)\n",
        "nature_colors = [\n",
        "    '#1f77b4',  # Blue\n",
        "    '#ff7f0e',  # Orange\n",
        "    '#2ca02c',  # Green\n",
        "    '#d62728',  # Red\n",
        "    '#9467bd',  # Purple\n",
        "    '#ffbb78',  # Light Orange\n",
        "    '#7a876f',  # Pink\n",
        "    '#17becf',  # Gray\n",
        "    '#bcbd22',  # Olive\n",
        "    '#FFC300',  # Yellow\n",
        "    '#aec7e8',  # Light Blue\n",
        "    '#8c564b'   # Brown\n",
        "]\n",
        "fig = plt.figure(figsize=(16, 9.6))\n",
        "ax = fig.add_subplot(111, projection='3d')\n",
        "# Plotting each cluster with a custom color\n",
        "for i in range(1, 8):  # Cluster numbers now range from 1 to 12\n",
        "    cluster_data = df1[df1['cluster'] == i]\n",
        "    ax.scatter(cluster_data['screen_time'], cluster_data['unlock'], cluster_data['message'], \n",
        "               color=nature_colors[i - 1], label=f'Cluster {i}', marker='o')\n",
        "ax.set_title('Behavior Segmentation for Smartphone Use (Cluster=7)')\n",
        "ax.set_xlabel('Screen Time (minutes)')\n",
        "ax.set_ylabel('Unlock Frequency')\n",
        "ax.set_zlabel('Number of Messages')\n",
        "# Legend\n",
        "ax.legend(title=\"Clusters\")\n",
        "plt.show()"
      ],
      "id": "1f7a99bf",
      "execution_count": null,
      "outputs": []
    },
    {
      "cell_type": "markdown",
      "metadata": {},
      "source": [
        "#### Rear view\n"
      ],
      "id": "041fa881"
    },
    {
      "cell_type": "code",
      "metadata": {},
      "source": [
        "#| echo: false\n",
        "#| warning: false\n",
        "#| output: true\n",
        "\n",
        "from sklearn.cluster import KMeans\n",
        "from sklearn.preprocessing import StandardScaler\n",
        "import matplotlib.pyplot as plt\n",
        "from mpl_toolkits.mplot3d import Axes3D\n",
        "random_seed = 1\n",
        "#df1 = df[df['message'] < 240]\n",
        "df1=df\n",
        "df1.loc[df1['unlock'] > 41, 'unlock'] = 41;df1.loc[df1['message'] > 96, 'message'] = 96\n",
        "# Normalizing the data\n",
        "scaler = StandardScaler()\n",
        "df_scaled = scaler.fit_transform(df1[['screen_time', 'unlock', 'message']])\n",
        "# KMeans clustering on normalized data\n",
        "kmeans = KMeans(n_clusters=7,random_state=random_seed)\n",
        "clusters = kmeans.fit_predict(df_scaled)\n",
        "# Adding the cluster data to the original dataframe\n",
        "df1['cluster'] = clusters+1\n",
        "# Visualizing the clusters in 3D with normalized data\n",
        "# Custom colors for each cluster (12 in total)\n",
        "nature_colors = [\n",
        "    '#1f77b4',  # Blue\n",
        "    '#ff7f0e',  # Orange\n",
        "    '#2ca02c',  # Green\n",
        "    '#d62728',  # Red\n",
        "    '#9467bd',  # Purple\n",
        "    '#ffbb78',  # Light Orange\n",
        "    '#7a876f',  # Pink\n",
        "    '#17becf',  # Gray\n",
        "    '#bcbd22',  # Olive\n",
        "    '#FFC300',  # Yellow\n",
        "    '#aec7e8',  # Light Blue\n",
        "    '#8c564b'   # Brown\n",
        "]\n",
        "fig = plt.figure(figsize=(16, 9.6))\n",
        "ax = fig.add_subplot(111, projection='3d')\n",
        "# Plotting each cluster with a custom color\n",
        "for i in range(1, 8):  # Cluster numbers now range from 1 to 12\n",
        "    cluster_data = df1[df1['cluster'] == i]\n",
        "    ax.scatter(cluster_data['screen_time'], cluster_data['unlock'], cluster_data['message'], \n",
        "               color=nature_colors[i - 1], label=f'Cluster {i}', marker='o')\n",
        "ax.set_title('Behavior Segmentation for Smartphone Use (Cluster=7)')\n",
        "ax.set_xlabel('Screen Time (minutes)')\n",
        "ax.set_ylabel('Unlock Frequency')\n",
        "ax.set_zlabel('Number of Messages')\n",
        "# Legend\n",
        "ax.legend(title=\"Clusters\")\n",
        "ax.view_init(30, 60)\n",
        "plt.show()"
      ],
      "id": "19a24565",
      "execution_count": null,
      "outputs": []
    },
    {
      "cell_type": "markdown",
      "metadata": {},
      "source": [
        "### Descriptive Statistics by Cluster\n",
        "\n",
        "#### Sleep Debt\n"
      ],
      "id": "92b37c7f"
    },
    {
      "cell_type": "code",
      "metadata": {},
      "source": [
        "#| echo: false\n",
        "#| warning: false\n",
        "#| output: true\n",
        "\n",
        "summary = df.groupby('cluster')['sleep_debt'].describe().round(2)\n",
        "print(summary)"
      ],
      "id": "3e881f0c",
      "execution_count": null,
      "outputs": []
    },
    {
      "cell_type": "markdown",
      "metadata": {},
      "source": [
        "The above summary suggests that **cluster 3** has the minimal sleep debt of **35.79** minutes. In comparison, **cluster 6** has the maximal sleep debt of **53.48** minutes.\n",
        "\n",
        "#### Screen Time\n"
      ],
      "id": "a0a1f71e"
    },
    {
      "cell_type": "code",
      "metadata": {},
      "source": [
        "#| echo: false\n",
        "#| warning: false\n",
        "#| output: true\n",
        "summary = df.groupby('cluster')['screen_time'].describe().round(2)\n",
        "print(summary)"
      ],
      "id": "e7bb29b6",
      "execution_count": null,
      "outputs": []
    },
    {
      "cell_type": "markdown",
      "metadata": {},
      "source": [
        "#### Unlock\n"
      ],
      "id": "fed6fa41"
    },
    {
      "cell_type": "code",
      "metadata": {},
      "source": [
        "#| echo: false\n",
        "#| warning: false\n",
        "#| output: true\n",
        "summary = df.groupby('cluster')['unlock'].describe().round(2)\n",
        "print(summary)"
      ],
      "id": "db31b337",
      "execution_count": null,
      "outputs": []
    },
    {
      "cell_type": "markdown",
      "metadata": {},
      "source": [
        "#### Message\n"
      ],
      "id": "c7e7e6dc"
    },
    {
      "cell_type": "code",
      "metadata": {},
      "source": [
        "#| echo: false\n",
        "#| warning: false\n",
        "#| output: true\n",
        "summary = df.groupby('cluster')['message'].describe().round(2)\n",
        "print(summary)"
      ],
      "id": "a4b6e7e0",
      "execution_count": null,
      "outputs": []
    },
    {
      "cell_type": "markdown",
      "metadata": {},
      "source": [
        "The table above suggests the cluster 3 has the **a message frequency of 7.56**. It implies that message level is not necessarily associated with sleep debt level.\n",
        "\n",
        "#### Close Message\n"
      ],
      "id": "9ebd880d"
    },
    {
      "cell_type": "code",
      "metadata": {},
      "source": [
        "#| echo: false\n",
        "#| warning: false\n",
        "#| output: true\n",
        "summary = df.groupby('cluster')['especiallyclose_m'].describe().round(2)\n",
        "print(summary)"
      ],
      "id": "471d4d0d",
      "execution_count": null,
      "outputs": []
    },
    {
      "cell_type": "markdown",
      "metadata": {},
      "source": [
        "The table above suggests the cluster 3 has the **a close message frequency of 2.90**. It implies that close message level is not necessarily associated with sleep debt level.\n",
        "\n",
        "#### Family Message\n"
      ],
      "id": "f1e71f2d"
    },
    {
      "cell_type": "code",
      "metadata": {},
      "source": [
        "#| echo: false\n",
        "#| warning: false\n",
        "#| output: true\n",
        "summary = df.groupby('cluster')['family_m'].describe().round(2)\n",
        "print(summary)"
      ],
      "id": "cb9798f6",
      "execution_count": null,
      "outputs": []
    },
    {
      "cell_type": "markdown",
      "metadata": {},
      "source": [
        "The table above suggests the cluster 3 has the **a family message frequency of 0.74**. It implies that family message might reduce sleep debt.\n",
        "\n",
        "#### Friend Message\n"
      ],
      "id": "28b27a0b"
    },
    {
      "cell_type": "code",
      "metadata": {},
      "source": [
        "#| echo: false\n",
        "#| warning: false\n",
        "#| output: true\n",
        "summary = df.groupby('cluster')['friend_m'].describe().round(2)\n",
        "print(summary)"
      ],
      "id": "64d34ed0",
      "execution_count": null,
      "outputs": []
    },
    {
      "cell_type": "markdown",
      "metadata": {},
      "source": [
        "#### Romantic Message\n"
      ],
      "id": "0eefdf89"
    },
    {
      "cell_type": "code",
      "metadata": {},
      "source": [
        "#| echo: false\n",
        "#| warning: false\n",
        "#| output: true\n",
        "summary = df.groupby('cluster')['romantic_m'].describe().round(2)\n",
        "print(summary)"
      ],
      "id": "28db7010",
      "execution_count": null,
      "outputs": []
    },
    {
      "cell_type": "markdown",
      "metadata": {},
      "source": [
        "#### Steps\n"
      ],
      "id": "be1e7ba6"
    },
    {
      "cell_type": "code",
      "metadata": {},
      "source": [
        "#| echo: false\n",
        "#| warning: false\n",
        "#| output: true\n",
        "summary = df.groupby('cluster')['steps'].describe().round(1)\n",
        "print(summary)"
      ],
      "id": "88d02216",
      "execution_count": null,
      "outputs": []
    }
  ],
  "metadata": {
    "kernelspec": {
      "name": "python3",
      "language": "python",
      "display_name": "Python 3 (ipykernel)"
    }
  },
  "nbformat": 4,
  "nbformat_minor": 5
}